{
 "cells": [
  {
   "cell_type": "markdown",
   "id": "fdeff819",
   "metadata": {},
   "source": [
    "# Sinh Viên thực hiện Lab 1 ở Đây"
   ]
  },
  {
   "cell_type": "markdown",
   "id": "acc5d7dc",
   "metadata": {},
   "source": [
    "## Lab 1 - Bài 1"
   ]
  },
  {
   "cell_type": "code",
   "execution_count": null,
   "id": "001e0507",
   "metadata": {},
   "outputs": [],
   "source": [
    "# Code lab 1 bài 1 ở đây\n",
    "print(\"Hello\")\n",
    "print(\"Toi ten la Le Cong Toan\")\n",
    "print(\"Toi den tu Hcm\")"
   ]
  },
  {
   "cell_type": "markdown",
   "id": "c0835310",
   "metadata": {},
   "source": [
    "## Lab 1 - Bài 2"
   ]
  },
  {
   "cell_type": "code",
   "execution_count": null,
   "id": "fa9cb39f",
   "metadata": {},
   "outputs": [],
   "source": [
    "# Code lab 1  bài 2 ở đây\n",
    "print(\"Tinh Chu vi, dien tich HCN:\")\n",
    "Chieu_dai_HCN =(float(input(\"Nhap chieu dai Hcn:\")))\n",
    "Chieu_rong_HCN =(float(input(\"Nhap chieu rong Hcn:\")))\n",
    "print(\"Chieu dai HCn:\",Chieu_dai_HCN)\n",
    "print(\"Chieu rong HCn:\",Chieu_rong_HCN)\n",
    "print(\"Chu  vi HCN la:\",(Chieu_dai_HCN + Chieu_rong_HCN)*2)\n",
    "print(\"Dien tich HCN la:\",Chieu_dai_HCN * Chieu_rong_HCN)"
   ]
  },
  {
   "cell_type": "markdown",
   "id": "0f2483fe",
   "metadata": {},
   "source": [
    "## Lab 1 - Bài 3"
   ]
  },
  {
   "cell_type": "code",
   "execution_count": null,
   "id": "7034990b",
   "metadata": {},
   "outputs": [],
   "source": [
    "# Code lab 1  bài 3 ở đây\n",
    "hehe = (\"Sống\")\n",
    "tho = f\"\"\"\n",
    "\"...\n",
    "{hehe} không giân, không hơn không oán trách\n",
    "{hehe} mỉm cười, với thử thách chông gai\n",
    "{hehe} vươn lên, theo kịp ánh ban mai\n",
    "{hehe} sống chan hòa, với những người chung sống.\n",
    "\\n{hehe} là động, nhưng lòng luôn bất động\n",
    "{hehe} là thương, nhưng lòng chẳng vấn vương\n",
    "{hehe} yên vui, danh lợi mãi coi thường\n",
    "Tâm bất biên, giữa dòng đời vạn biến.\n",
    "...\"\n",
    "\"\"\"\n",
    "print(tho)"
   ]
  },
  {
   "cell_type": "markdown",
   "id": "d36ea3d3",
   "metadata": {},
   "source": [
    "## Lab 1 - Bài 4"
   ]
  },
  {
   "cell_type": "code",
   "execution_count": null,
   "id": "4c707ec1",
   "metadata": {},
   "outputs": [],
   "source": [
    "# code lab 1 bài 4 ở đây\n",
    "import math\n",
    "print(\"Nhập hệ số a, b, c của phương trình bậc 2:\")\n",
    "a = float(input(\"Nhập a: \"))\n",
    "b = float(input(\"Nhập b: \"))\n",
    "c = float(input(\"Nhập c: \"))\n",
    "\n",
    "delta = b ** 2 - 4*a*c\n",
    "sqrt_delta = math.sqrt(abs(delta))\n",
    "print(\"Delta phương trình bậc 2 =\", delta)\n",
    "print(\"Căn bậc hai của |Delta| =\", sqrt_delta)"
   ]
  },
  {
   "cell_type": "markdown",
   "id": "e2b41d4a",
   "metadata": {},
   "source": [
    "## Lab 1 - Bài 5: bài tập làm thêm"
   ]
  },
  {
   "cell_type": "code",
   "execution_count": null,
   "id": "0e0172f7",
   "metadata": {},
   "outputs": [],
   "source": [
    "# code lab 1  bài làm thêm ở đây "
   ]
  }
 ],
 "metadata": {
  "kernelspec": {
   "display_name": "Python 3",
   "language": "python",
   "name": "python3"
  },
  "language_info": {
   "name": "python",
   "version": "3.13.0"
  }
 },
 "nbformat": 4,
 "nbformat_minor": 5
}
