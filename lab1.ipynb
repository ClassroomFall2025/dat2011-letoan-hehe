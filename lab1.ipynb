{
 "cells": [
  {
   "cell_type": "markdown",
   "id": "fdeff819",
   "metadata": {},
   "source": [
    "# Sinh Viên thực hiện Lab 1 ở Đây"
   ]
  },
  {
   "cell_type": "markdown",
   "id": "acc5d7dc",
   "metadata": {},
   "source": [
    "## Lab 1 - Bài 1"
   ]
  },
  {
   "cell_type": "code",
   "execution_count": null,
   "id": "001e0507",
   "metadata": {},
   "outputs": [],
   "source": [
    "# Code lab 1 bài 1 ở đây\n",
    "print(\"Hello\")\n",
    "print(\"Toi ten la Le Cong Toan\")\n",
    "print(\"Toi den tu Hcm\")"
   ]
  },
  {
   "cell_type": "markdown",
   "id": "c0835310",
   "metadata": {},
   "source": [
    "## Lab 1 - Bài 2"
   ]
  },
  {
   "cell_type": "code",
   "execution_count": null,
   "id": "fa9cb39f",
   "metadata": {},
   "outputs": [],
   "source": [
    "# Code lab 1  bài 2 ở đây\n",
    "print(\"Tinh Chu vi, dien tich HCN:\")\n",
    "Chieu_dai_HCN =(float(input(\"Nhap chieu dai Hcn:\")))\n",
    "Chieu_rong_HCN =(float(input(\"Nhap chieu rong Hcn:\")))\n",
    "print(\"Chieu dai HCn:\",Chieu_dai_HCN)\n",
    "print(\"Chieu rong HCn:\",Chieu_rong_HCN)\n",
    "print(\"Chu  vi HCN la:\",(Chieu_dai_HCN + Chieu_rong_HCN)*2)\n",
    "print(\"Dien tich HCN la:\",Chieu_dai_HCN * Chieu_rong_HCN)"
   ]
  },
  {
   "cell_type": "markdown",
   "id": "0f2483fe",
   "metadata": {},
   "source": [
    "## Lab 1 - Bài 3"
   ]
  },
  {
   "cell_type": "code",
   "execution_count": 1,
   "id": "7034990b",
   "metadata": {},
   "outputs": [
    {
     "name": "stdout",
     "output_type": "stream",
     "text": [
      "\n",
      "\"...\n",
      "Sống không giân, không hơn không oán trách\n",
      "Sống mỉm cười, với thử thách chông gai\n",
      "Sống vươn lên, theo kịp ánh ban mai\n",
      "Sống sống chan hòa, với những người chung sống.\n",
      "\n",
      "Sống là động, nhưng lòng luôn bất động\n",
      "Sống là thương, nhưng lòng chẳng vấn vương\n",
      "Sống yên vui, danh lợi mãi coi thường\n",
      "Tâm bất biên, giữa dòng đời vạn biến.\n",
      "...\"\n",
      "\n"
     ]
    }
   ],
   "source": [
    "# Code lab 1  bài 3 ở đây\n",
    "text = (\"Sống\")\n",
    "tho = f\"\"\"\n",
    "\"...\n",
    "{text} không giân, không hơn không oán trách\n",
    "{text} mỉm cười, với thử thách chông gai\n",
    "{text} vươn lên, theo kịp ánh ban mai\n",
    "{text} sống chan hòa, với những người chung sống.\n",
    "\\n{text} là động, nhưng lòng luôn bất động\n",
    "{text} là thương, nhưng lòng chẳng vấn vương\n",
    "{text} yên vui, danh lợi mãi coi thường\n",
    "Tâm bất biên, giữa dòng đời vạn biến.\n",
    "...\"\n",
    "\"\"\"\n",
    "print(tho)"
   ]
  },
  {
   "cell_type": "markdown",
   "id": "d36ea3d3",
   "metadata": {},
   "source": [
    "## Lab 1 - Bài 4"
   ]
  },
  {
   "cell_type": "code",
   "execution_count": null,
   "id": "4c707ec1",
   "metadata": {},
   "outputs": [],
   "source": [
    "# code lab 1 bài 4 ở đây\n",
    "import math\n",
    "print(\"Nhập hệ số a, b, c của phương trình bậc 2:\")\n",
    "a = float(input(\"Nhập a: \"))\n",
    "b = float(input(\"Nhập b: \"))\n",
    "c = float(input(\"Nhập c: \"))\n",
    "\n",
    "delta = b ** 2 - 4*a*c\n",
    "sqrt_delta = math.sqrt(abs(delta))\n",
    "print(\"Delta phương trình bậc 2 =\", delta)\n",
    "print(\"Căn bậc hai của |Delta| =\", sqrt_delta)"
   ]
  },
  {
   "cell_type": "markdown",
   "id": "e2b41d4a",
   "metadata": {},
   "source": [
    "## Lab 1 - Bài 5: bài tập làm thêm"
   ]
  },
  {
   "cell_type": "code",
   "execution_count": 7,
   "id": "0e0172f7",
   "metadata": {},
   "outputs": [
    {
     "name": "stdout",
     "output_type": "stream",
     "text": [
      "Tong hai so la: 9.0\n",
      "Hieu hai so la: -5.0\n",
      "Tich hai so la: 14.0\n",
      "Thuong hai so la: 0.3\n",
      "Logaryt hai so la: 0.4\n"
     ]
    }
   ],
   "source": [
    "# code lab 1  bài làm thêm ở đây \n",
    "import math\n",
    "num_1 = float(input(\"Nhap 1 so bat ki:\"))\n",
    "num_2 = float(input(\"Nhap 1 so bat ki:\"))\n",
    "print(\"Tong hai so la:\",num_1 + num_2)\n",
    "print(\"Hieu hai so la:\",num_1 - num_2)\n",
    "print(\"Tich hai so la:\",num_1 * num_2)\n",
    "print(\"Thuong hai so la:\",round((num_1 / num_2),1))\n",
    "print(\"Logaryt hai so la:\",round((math.log(num_1,num_2)),1))\n"
   ]
  }
 ],
 "metadata": {
  "kernelspec": {
   "display_name": "Python 3",
   "language": "python",
   "name": "python3"
  },
  "language_info": {
   "codemirror_mode": {
    "name": "ipython",
    "version": 3
   },
   "file_extension": ".py",
   "mimetype": "text/x-python",
   "name": "python",
   "nbconvert_exporter": "python",
   "pygments_lexer": "ipython3",
   "version": "3.13.0"
  }
 },
 "nbformat": 4,
 "nbformat_minor": 5
}
