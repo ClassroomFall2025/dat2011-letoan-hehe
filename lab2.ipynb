{
 "cells": [
  {
   "cell_type": "markdown",
   "id": "fdeff819",
   "metadata": {},
   "source": [
    "# Sinh Viên thực hiện Lab 2 ở Đây"
   ]
  },
  {
   "cell_type": "markdown",
   "id": "acc5d7dc",
   "metadata": {},
   "source": [
    "## Lab 2 - Bài 1"
   ]
  },
  {
   "cell_type": "code",
   "execution_count": null,
   "id": "001e0507",
   "metadata": {},
   "outputs": [
    {
     "name": "stdout",
     "output_type": "stream",
     "text": [
      "True\n",
      "con người mỏng manh\n",
      "\n",
      " Cách 2: Dùng find:\n",
      "con người\n",
      "\n",
      "Kiếp CON NGƯỜI mỏng manh như là gió\n",
      "Sống trên đời có được mấy lần vui\n",
      "Sao phải đau mà không thể mỉm cười\n",
      "Gắng buông nỗi ngậm ngùi nơi quá khứ\n",
      "\n",
      "Nếu có thể sao ta không làm thử\n",
      "Để tâm hồn khắc hai chữ bình an\n",
      "Cho đôi chân bước thanh thản nhẹ nhàng\n",
      "Dù hướng đời có muôn ngàn sỏi đá\n",
      "\n",
      "\n",
      " In ra một chuỗi bất kì:\n",
      "ta không\n"
     ]
    }
   ],
   "source": [
    "# Code lab 2 bài 1 ở đây\n",
    "tho = \"\"\"\n",
    "Kiếp con người mỏng manh như là gió\n",
    "Sống trên đời có được mấy lần vui\n",
    "Sao phải đau mà không thể mỉm cười\n",
    "Gắng buông nỗi ngậm ngùi nơi quá khứ\n",
    "\n",
    "Nếu có thể sao ta không làm thử\n",
    "Để tâm hồn khắc hai chữ bình an\n",
    "Cho đôi chân bước thanh thản nhẹ nhàng\n",
    "Dù hướng đời có muôn ngàn sỏi đá\n",
    "\"\"\"\n",
    "# Cách 1: in ra từ con người nếu if tìm thấy trong bài thơ\n",
    "    # if (\"con người\" in tho):\n",
    "    #    print(\"Tìm thấy cụm từ 'con người'\")\n",
    "    # else:\n",
    "    #    print(\"Không tìm thấy cụm từ 'con người'\")\n",
    "\n",
    "# Cách 2 dùng in: nếu có thì trả về True, không có trả về False\n",
    "print(\"con người\" in tho)\n",
    "\n",
    "# Dùng hàm find để tìm vị trí của từ con người trong bài thơ\n",
    "# Nếu tìm thấy thì sẽ in chuỗi \"con người\" và 10 ký tự bên phải tiếp theo kế bên từ con người\n",
    "key_word = \"con người\"\n",
    "position = tho.find(key_word)\n",
    "start = 0\n",
    "while True: # Vòng lặp while để tìm tất cả các vị trí của từ khóa trong bài thơ, sẽ kết thúc khi gặp câu lệnh break\n",
    "    position = tho.find(key_word, start)\n",
    "    if position == -1: # Nếu vị trí = -1 thì không tìm thấy từ khóa, break\n",
    "        break\n",
    "    left_part = max(0, position ) # Lấy vị trí bên trái, lấy max là position để lấy index đầu tiên của keyword do hàm find trả\n",
    "    right_part = min(len(tho), position + len(key_word) + 10)\n",
    "    print(tho[left_part:right_part])\n",
    "    start = position + len(key_word) # Cập nhật vị trí bắt đầu tìm kiếm cho lần sau\n",
    "\n",
    "# Cach 2: Dùng find:\n",
    "print(\"\\n Cách 2: Dùng find:\")\n",
    "Search = tho.find(\"con người\")\n",
    "End = len(\"con người\") + Search\n",
    "print(tho[Search:End]) # In ra từ con người và 10 ký tự bên phải\n",
    "print(tho.replace(\"con người\", \"con người\".upper())) # Thay thế tất cả từ con người thành CON NGƯỜI\n",
    "\n",
    "\n",
    "\n",
    "# In ra một chuỗi bất kì \n",
    "print(\"\\n In ra một chuỗi bất kì:\")\n",
    "Search_string = input(\"Nhập chuỗi cần tìm: \")\n",
    "Search_position = tho.find(Search_string)\n",
    "End_string = len(Search_string) + Search_position\n",
    "print(tho[Search_position:End_string]) # In ra chuỗi vừa nhập và"
   ]
  },
  {
   "cell_type": "markdown",
   "id": "c0835310",
   "metadata": {},
   "source": [
    "## Lab 2 - Bài 2"
   ]
  },
  {
   "cell_type": "code",
   "execution_count": 4,
   "id": "fa9cb39f",
   "metadata": {},
   "outputs": [
    {
     "name": "stdout",
     "output_type": "stream",
     "text": [
      "\n",
      "Kiếp con người mỏng manh như là gió\n",
      "Sống trên đời có được mấy lần vui\n",
      "Sao phải đau mà không thể mỉm cười\n",
      "Gắng buông nỗi ngậm ngùi nơi quá khứ\n",
      "\n",
      "Nếu có thể sao ta không làm thử\n",
      "Để tâm hồn khắc hai chữ  hạnh phúc\n",
      "Cho đôi chân bước thanh thản nhẹ nhàng\n",
      "Dù hướng đời có muôn ngàn sỏi đá\n",
      "\n",
      " \"... \n",
      "Kiếp con người mỏng manh như là gió\n",
      "Sống trên đời có được mấy lần vui\n",
      "Sao phải đau mà không thể mỉm cười\n",
      "Gắng buông nỗi ngậm ngùi nơi quá khứ\n",
      "\n",
      "Nếu có thể sao ta không làm thử\n",
      "Để tâm hồn khắc hai chữ  hạnh phúc\n",
      "Cho đôi chân bước thanh thản nhẹ nhàng\n",
      "Dù hướng đời có muôn ngàn sỏi đá\n",
      " ...\" \n"
     ]
    }
   ],
   "source": [
    "# Code lab 2  bài 2 ở đây\n",
    "tho = \"\"\"\n",
    "Kiếp con người mỏng manh như là gió\n",
    "Sống trên đời có được mấy lần vui\n",
    "Sao phải đau mà không thể mỉm cười\n",
    "Gắng buông nỗi ngậm ngùi nơi quá khứ\n",
    "\n",
    "Nếu có thể sao ta không làm thử\n",
    "Để tâm hồn khắc hai chữ bình an\n",
    "Cho đôi chân bước thanh thản nhẹ nhàng\n",
    "Dù hướng đời có muôn ngàn sỏi đá\n",
    "\"\"\"\n",
    "txt = \"\"\" \"... \"\"\"\n",
    "txt_2 = \"\"\" ...\" \"\"\"\n",
    "tho_2 = tho.replace(\"bình an\", \" hạnh phúc\") # Thay từ bình an thành từ hạnh phúc\n",
    "print(tho_2)\n",
    "tho_3 = txt + tho_2 + txt_2 # Kết hợp chuỗi\n",
    "print(tho_3)"
   ]
  },
  {
   "cell_type": "markdown",
   "id": "0f2483fe",
   "metadata": {},
   "source": [
    "## Lab 2 - Bài 3"
   ]
  },
  {
   "cell_type": "code",
   "execution_count": null,
   "id": "7034990b",
   "metadata": {},
   "outputs": [],
   "source": [
    "# Code lab 2  bài 3 ở đây\n",
    "print(\"Giải phương trình bậc 1: ax + b = 0\")\n",
    "He_so_bac_1 = int(input(\"Nhập hệ số a: \"))\n",
    "He_so_tu_do = int(input(\"Nhập hệ số b: \"))\n",
    "print(\"Phương trình đã cho: \", He_so_bac_1, \"x +\", He_so_tu_do, \"= 0\")\n",
    "if He_so_bac_1 == 0:\n",
    "    if He_so_tu_do == 0:\n",
    "        print(\"Phương trình vô số nghiệm\")\n",
    "    else:\n",
    "        print(\"Phương trình vô nghiệm\")\n",
    "else:\n",
    "    Nghiem_pt = -He_so_tu_do / He_so_bac_1\n",
    "    print(\"Nghiệm của phương trình là: x =\", Nghiem_pt)"
   ]
  },
  {
   "cell_type": "markdown",
   "id": "d36ea3d3",
   "metadata": {},
   "source": [
    "## Lab 2 - Bài 4"
   ]
  },
  {
   "cell_type": "code",
   "execution_count": null,
   "id": "4c707ec1",
   "metadata": {},
   "outputs": [
    {
     "name": "stdout",
     "output_type": "stream",
     "text": [
      "Giải phương trình bậc 2: ax^2 + bx + c = 0\n",
      "Phương trình đã cho:  3.0 x^2 + 5.0 x + 6.0 = 0\n",
      "Delta: -47.0\n",
      "Phương trình vô nghiệm\n"
     ]
    }
   ],
   "source": [
    "# code lab 2 bài 4 ở đây\n",
    "import math\n",
    "print(\"Giải phương trình bậc 2: ax^2 + bx + c = 0\")\n",
    "He_so_bac_2 = float(input(\"Nhập hệ số a: \"))\n",
    "He_so_bac_1 = float(input(\"Nhập hệ số b: \"))\n",
    "He_so_tu_do = float(input(\"Nhập hệ số c: \"))\n",
    "delta = He_so_bac_1 ** 2 - 4 * He_so_bac_2 * He_so_tu_do\n",
    "print(\"Phương trình đã cho: \", He_so_bac_2, \"x^2 +\", He_so_bac_1, \"x +\", He_so_tu_do, \"= 0\")\n",
    "if He_so_bac_2 == 0:\n",
    "    if He_so_bac_1 == 0:\n",
    "        if He_so_tu_do == 0:\n",
    "            print(\"Phương trình vô số nghiệm\")\n",
    "        else:\n",
    "            print(\"Phương trình vô nghiệm\")\n",
    "    else:\n",
    "        Nghiem_pt = round((-He_so_tu_do / He_so_bac_1),1)\n",
    "        print(\"Phương trình bậc nhất, nghiệm là: x =\", Nghiem_pt)\n",
    "else:\n",
    "    if delta < 0:\n",
    "        print(\"Delta:\", delta)\n",
    "        print(\"Phương trình vô nghiệm\")\n",
    "    elif delta == 0:\n",
    "        Nghiem_pt = round((-He_so_bac_1 / (2 * He_so_bac_2)),1) # Làm tròn 1 chữ số thập phân\n",
    "        print(\"Phương trình có nghiệm kép: x =\", Nghiem_pt)\n",
    "    else:\n",
    "        Nghiem_1 = round(((-He_so_bac_1 + math.sqrt(delta)) / (2 * He_so_bac_2)),1) \n",
    "        Nghiem_2 = round(((-He_so_bac_1 - math.sqrt(delta)) / (2 * He_so_bac_2)),1)\n",
    "        print(\"Phương trình có hai nghiệm phân biệt:\")\n",
    "        print(\"x1 =\", Nghiem_1)\n",
    "        print(\"x2 =\", Nghiem_2)\n"
   ]
  },
  {
   "cell_type": "markdown",
   "id": "e2b41d4a",
   "metadata": {},
   "source": [
    "## Lab 2 - Bài 5: bài tập làm thêm"
   ]
  },
  {
   "cell_type": "code",
   "execution_count": 15,
   "id": "0e0172f7",
   "metadata": {},
   "outputs": [
    {
     "name": "stdout",
     "output_type": "stream",
     "text": [
      "+---------------------------------+\n",
      "1: Tính cộng trừ nhân chia\n",
      "2: Tính lũy thừa\n",
      "3: Tính căn bậc 2 \n",
      "4: Tính hàm lượng giác\n",
      "5: Tính logarit\n",
      "6 Tìm số lớn nhất trong 3 số\n",
      "7: Kết thúc chương trình\n",
      "+---------------------------------+\n",
      "Số lớn nhất trong 3 số là:  6.0\n"
     ]
    }
   ],
   "source": [
    "# code lab 2  bài làm thêm ở đây \n",
    "import math\n",
    "print(\"+---------------------------------+\")\n",
    "print(\"1: Tính cộng trừ nhân chia\")\n",
    "print(\"2: Tính lũy thừa\")\n",
    "print(\"3: Tính căn bậc 2 \")\n",
    "print(\"4: Tính hàm lượng giác\")\n",
    "print(\"5: Tính logarit\")\n",
    "print(\"6 Tìm số lớn nhất trong 3 số\")\n",
    "print(\"7: Kết thúc chương trình\")\n",
    "print(\"+---------------------------------+\")\n",
    "\n",
    "choose_funtion = input(\"Chọn chức năng (1-7): \")\n",
    "# Chức năng 1: Tính cộng trừ nhân chia\n",
    "if choose_funtion ==  \"1\":\n",
    "    number_1 = float(input(\"Nhập số thứ nhất: \"))\n",
    "    number_2 = float(input(\"Nhập số thứ hai: \"))\n",
    "    sum_two_number = number_1 + number_2\n",
    "    sub_two_number = number_1 - number_2\n",
    "    mul_two_number = number_1 * number_2\n",
    "    div_two_number = number_1 / number_2 \n",
    "    operator = input(\"Nhập toán tử cần tính (+, -, *, /): \")\n",
    "    if operator == \"+\":\n",
    "            print(\"Cộng 2 số: %d + %d = %.2f \" % (number_1, number_2, sum_two_number))\n",
    "    elif operator == \"-\":\n",
    "            print(\"Trừ 2 số: %d - %d = %.2f \" % (number_1, number_2, sub_two_number))\n",
    "    elif operator == \"*\":\n",
    "            print(\"Nhân 2 số: %d * %d = %.2f \" % (number_1, number_2, mul_two_number))\n",
    "    elif operator == \"/\":\n",
    "        if number_2 != 0:\n",
    "            print(\"Chia 2 số: %d / %d = %.2f \" % (number_1, number_2, div_two_number))\n",
    "        else:\n",
    "            print(\"Lỗi! Không thể chia cho 0\")\n",
    "        \n",
    "    ## Chức năng 2: Tính lũy thừa\n",
    "elif choose_funtion == \"2\":\n",
    "        base_number = float(input(\"Nhập số cần tính lũy thừa: \"))\n",
    "        exponent_number = float(input(\"Nhập số mũ: \"))\n",
    "        print(\"%d mũ %d = %.2f\" % (base_number, exponent_number, math.pow(base_number, exponent_number)))\n",
    "    #Chức năng 3: Tính căn bậc 2\n",
    "elif choose_funtion == \"3\":\n",
    "    number_3 = float(input(\"Nhập số cần tính căn bậc 2: \"))\n",
    "    if number_3 < 0:\n",
    "         print(\"Lỗi! Không thể tính căn bậc 2 của số âm\")\n",
    "    else:\n",
    "        print(\"Căn bậc 2 của %.2f là: %.2f\" % (number_3, math.sqrt(number_3)))\n",
    "    # Chức năng 4: Tính hàm lượng giác\n",
    "elif choose_funtion == \"4\":\n",
    "    trig_funtion = input(\"Nhập hàm lượng giác cần tính (sin, cos, tan): \")\n",
    "    if trig_funtion.lower() == \"sin\":\n",
    "        number_x = float(input(\"Nhập góc x (độ): \"))\n",
    "        rad_number_x = math.radians(number_x) # Đổi độ sang radian\n",
    "        print(\"sin(%.2f) = %.2f\" % (number_x, math.sin(rad_number_x)))\n",
    "    elif trig_funtion.lower() == \"cos\":\n",
    "        number_x = float(input(\"Nhập góc x (độ): \"))\n",
    "        rad_number_x = math.radians(number_x) # Đổi độ sang radian\n",
    "        print(\"cos(%.2f) = %.2f\" % (number_x, math.cos(rad_number_x)))\n",
    "    elif  trig_funtion.lower() == \"tan\":\n",
    "        number_x = float(input(\"Nhập góc x (độ): \"))\n",
    "        rad_number_x = math.radians(number_x) # Đổi độ sang radian\n",
    "        if math.cos(rad_number_x) == 0:\n",
    "                print(\"Lỗi! Không thể tính tan của góc này\")\n",
    "        else:\n",
    "                print(\"tan(%.2f) = %.2f\" % (number_x, math.tan(rad_number_x)))\n",
    "    # Chức năng 5: Tính logarit\n",
    "elif choose_funtion == \"5\":\n",
    "    log_number = float(input(\"Nhập số cần tính logarit: \"))\n",
    "    if log_number <= 0:\n",
    "        print(\"Lỗi! Không thể tính logarit của số âm hoặc số 0\")\n",
    "    else:\n",
    "        print(\"log(%.2f) = %.2f\" % (log_number, math.log10(log_number)))\n",
    "elif choose_funtion == \"6\":\n",
    "    number_4 = float(input(\"Nhập số thứ nhất: \"))\n",
    "    number_5 = float(input(\"Nhập số thứ hai: \"))\n",
    "    number_6 = float(input(\"Nhập số thứ ba: \"))\n",
    "    max = number_4 if (number_4 > number_5 and number_4 > number_6) else (number_5 if number_5 > number_6 else number_6)\n",
    "    print(\"Số lớn nhất trong 3 số là: \", max)\n",
    "elif choose_funtion == \"7\":\n",
    "    print(\"Kết thúc chương trình\")"
   ]
  }
 ],
 "metadata": {
  "kernelspec": {
   "display_name": "Python 3",
   "language": "python",
   "name": "python3"
  },
  "language_info": {
   "codemirror_mode": {
    "name": "ipython",
    "version": 3
   },
   "file_extension": ".py",
   "mimetype": "text/x-python",
   "name": "python",
   "nbconvert_exporter": "python",
   "pygments_lexer": "ipython3",
   "version": "3.13.0"
  }
 },
 "nbformat": 4,
 "nbformat_minor": 5
}
