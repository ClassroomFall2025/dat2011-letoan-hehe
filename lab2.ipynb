{
 "cells": [
  {
   "cell_type": "markdown",
   "id": "fdeff819",
   "metadata": {},
   "source": [
    "# Sinh Viên thực hiện Lab 2 ở Đây"
   ]
  },
  {
   "cell_type": "markdown",
   "id": "acc5d7dc",
   "metadata": {},
   "source": [
    "## Lab 2 - Bài 1"
   ]
  },
  {
   "cell_type": "code",
   "execution_count": null,
   "id": "001e0507",
   "metadata": {},
   "outputs": [
    {
     "name": "stdout",
     "output_type": "stream",
     "text": [
      "True\n",
      "con người mỏng manh\n",
      "\n",
      "Kiếp CON NGƯỜI mỏng manh như là gió\n",
      "Sống trên đời có được mấy lần vui\n",
      "Sao phải đau mà không thể mỉm cười\n",
      "Gắng buông nỗi ngậm ngùi nơi quá khứ\n",
      "\n",
      "Nếu có thể sao ta không làm thử\n",
      "Để tâm hồn khắc hai chữ bình an\n",
      "Cho đôi chân bước thanh thản nhẹ nhàng\n",
      "Dù hướng đời có muôn ngàn sỏi đá\n",
      "\n"
     ]
    }
   ],
   "source": [
    "# Code lab 2 bài 1 ở đây\n",
    "tho = \"\"\"\n",
    "Kiếp con người mỏng manh như là gió\n",
    "Sống trên đời có được mấy lần vui\n",
    "Sao phải đau mà không thể mỉm cười\n",
    "Gắng buông nỗi ngậm ngùi nơi quá khứ\n",
    "\n",
    "Nếu có thể sao ta không làm thử\n",
    "Để tâm hồn khắc hai chữ bình an\n",
    "Cho đôi chân bước thanh thản nhẹ nhàng\n",
    "Dù hướng đời có muôn ngàn sỏi đá\n",
    "\"\"\"\n",
    "# Cách 1: in ra từ con người nếu if tìm thấy trong bài thơ\n",
    "    # if (\"con người\" in tho):\n",
    "    #    print(\"Tìm thấy cụm từ 'con người'\")\n",
    "    # else:\n",
    "    #    print(\"Không tìm thấy cụm từ 'con người'\")\n",
    "\n",
    "# Cách 2 dùng in: nếu có thì trả về True, không có trả về False\n",
    "print(\"con người\" in tho)\n",
    "\n",
    "# Dùng hàm find để tìm vị trí của từ con người trong bài thơ\n",
    "# Nếu tìm thấy thì sẽ in chuỗi \"con người\" và 10 ký tự bên phải tiếp theo kế bên từ con người\n",
    "key_word = \"con người\"\n",
    "position = tho.find(key_word)\n",
    "start = 0\n",
    "while True: # Vòng lặp while để tìm tất cả các vị trí của từ khóa trong bài thơ, sẽ kết thúc khi gặp câu lệnh break\n",
    "    position = tho.find(key_word, start)\n",
    "    if position == -1: # Nếu vị trí = -1 thì không tìm thấy từ khóa, break\n",
    "        break\n",
    "    left_part = max(0, position ) # Lấy vị trí bên trái, lấy max là position để lấy index đầu tiên của keyword do hàm find trả\n",
    "    right_part = min(len(tho), position + len(key_word) + 10)\n",
    "    print(tho[left_part:right_part])\n",
    "    start = position + len(key_word) # Cập nhật vị trí bắt đầu tìm kiếm cho lần sau\n",
    "print(tho.replace(\"con người\", \"con người\".upper())) # Thay thế tất cả từ con người thành CON NGƯỜI"
   ]
  },
  {
   "cell_type": "markdown",
   "id": "c0835310",
   "metadata": {},
   "source": [
    "## Lab 2 - Bài 2"
   ]
  },
  {
   "cell_type": "code",
   "execution_count": 4,
   "id": "fa9cb39f",
   "metadata": {},
   "outputs": [
    {
     "name": "stdout",
     "output_type": "stream",
     "text": [
      "\n",
      "Kiếp con người mỏng manh như là gió\n",
      "Sống trên đời có được mấy lần vui\n",
      "Sao phải đau mà không thể mỉm cười\n",
      "Gắng buông nỗi ngậm ngùi nơi quá khứ\n",
      "\n",
      "Nếu có thể sao ta không làm thử\n",
      "Để tâm hồn khắc hai chữ  hạnh phúc\n",
      "Cho đôi chân bước thanh thản nhẹ nhàng\n",
      "Dù hướng đời có muôn ngàn sỏi đá\n",
      "\n",
      " \"... \n",
      "Kiếp con người mỏng manh như là gió\n",
      "Sống trên đời có được mấy lần vui\n",
      "Sao phải đau mà không thể mỉm cười\n",
      "Gắng buông nỗi ngậm ngùi nơi quá khứ\n",
      "\n",
      "Nếu có thể sao ta không làm thử\n",
      "Để tâm hồn khắc hai chữ  hạnh phúc\n",
      "Cho đôi chân bước thanh thản nhẹ nhàng\n",
      "Dù hướng đời có muôn ngàn sỏi đá\n",
      " ...\" \n"
     ]
    }
   ],
   "source": [
    "# Code lab 2  bài 2 ở đây\n",
    "tho = \"\"\"\n",
    "Kiếp con người mỏng manh như là gió\n",
    "Sống trên đời có được mấy lần vui\n",
    "Sao phải đau mà không thể mỉm cười\n",
    "Gắng buông nỗi ngậm ngùi nơi quá khứ\n",
    "\n",
    "Nếu có thể sao ta không làm thử\n",
    "Để tâm hồn khắc hai chữ bình an\n",
    "Cho đôi chân bước thanh thản nhẹ nhàng\n",
    "Dù hướng đời có muôn ngàn sỏi đá\n",
    "\"\"\"\n",
    "txt = \"\"\" \"... \"\"\"\n",
    "txt_2 = \"\"\" ...\" \"\"\"\n",
    "tho_2 = tho.replace(\"bình an\", \" hạnh phúc\") # Thay từ bình an thành từ hạnh phúc\n",
    "print(tho_2)\n",
    "tho_3 = txt + tho_2 + txt_2 # Kết hợp chuỗi\n",
    "print(tho_3)"
   ]
  },
  {
   "cell_type": "markdown",
   "id": "0f2483fe",
   "metadata": {},
   "source": [
    "## Lab 2 - Bài 3"
   ]
  },
  {
   "cell_type": "code",
   "execution_count": null,
   "id": "7034990b",
   "metadata": {},
   "outputs": [],
   "source": [
    "# Code lab 2  bài 3 ở đây\n",
    "print(\"Giải phương trình bậc 1: ax + b = 0\")\n",
    "He_so_bac_1 = int(input(\"Nhập hệ số a: \"))\n",
    "He_so_tu_do = int(input(\"Nhập hệ số b: \"))\n",
    "print(\"Phương trình đã cho: \", He_so_bac_1, \"x +\", He_so_tu_do, \"= 0\")\n",
    "if He_so_bac_1 == 0:\n",
    "    if He_so_tu_do == 0:\n",
    "        print(\"Phương trình vô số nghiệm\")\n",
    "    else:\n",
    "        print(\"Phương trình vô nghiệm\")\n",
    "else:\n",
    "    Nghiem_pt = -He_so_tu_do / He_so_bac_1\n",
    "    print(\"Nghiệm của phương trình là: x =\", Nghiem_pt)"
   ]
  },
  {
   "cell_type": "markdown",
   "id": "d36ea3d3",
   "metadata": {},
   "source": [
    "## Lab 2 - Bài 4"
   ]
  },
  {
   "cell_type": "code",
   "execution_count": null,
   "id": "4c707ec1",
   "metadata": {},
   "outputs": [
    {
     "name": "stdout",
     "output_type": "stream",
     "text": [
      "Giải phương trình bậc 2: ax^2 + bx + c = 0\n",
      "Phương trình đã cho:  3.0 x^2 + 5.0 x + 6.0 = 0\n",
      "Delta: -47.0\n",
      "Phương trình vô nghiệm\n"
     ]
    }
   ],
   "source": [
    "# code lab 2 bài 4 ở đây\n",
    "import math\n",
    "print(\"Giải phương trình bậc 2: ax^2 + bx + c = 0\")\n",
    "He_so_bac_2 = float(input(\"Nhập hệ số a: \"))\n",
    "He_so_bac_1 = float(input(\"Nhập hệ số b: \"))\n",
    "He_so_tu_do = float(input(\"Nhập hệ số c: \"))\n",
    "delta = He_so_bac_1 ** 2 - 4 * He_so_bac_2 * He_so_tu_do\n",
    "print(\"Phương trình đã cho: \", He_so_bac_2, \"x^2 +\", He_so_bac_1, \"x +\", He_so_tu_do, \"= 0\")\n",
    "if He_so_bac_2 == 0:\n",
    "    if He_so_bac_1 == 0:\n",
    "        if He_so_tu_do == 0:\n",
    "            print(\"Phương trình vô số nghiệm\")\n",
    "        else:\n",
    "            print(\"Phương trình vô nghiệm\")\n",
    "    else:\n",
    "        Nghiem_pt = round((-He_so_tu_do / He_so_bac_1),1)\n",
    "        print(\"Phương trình bậc nhất, nghiệm là: x =\", Nghiem_pt)\n",
    "else:\n",
    "    if delta < 0:\n",
    "        print(\"Delta:\", delta)\n",
    "        print(\"Phương trình vô nghiệm\")\n",
    "    elif delta == 0:\n",
    "        Nghiem_pt = round((-He_so_bac_1 / (2 * He_so_bac_2)),1) # Làm tròn 1 chữ số thập phân\n",
    "        print(\"Phương trình có nghiệm kép: x =\", Nghiem_pt)\n",
    "    else:\n",
    "        Nghiem_1 = round(((-He_so_bac_1 + math.sqrt(delta)) / (2 * He_so_bac_2)),1) \n",
    "        Nghiem_2 = round(((-He_so_bac_1 - math.sqrt(delta)) / (2 * He_so_bac_2)),1)\n",
    "        print(\"Phương trình có hai nghiệm phân biệt:\")\n",
    "        print(\"x1 =\", Nghiem_1)\n",
    "        print(\"x2 =\", Nghiem_2)\n"
   ]
  },
  {
   "cell_type": "markdown",
   "id": "e2b41d4a",
   "metadata": {},
   "source": [
    "## Lab 2 - Bài 5: bài tập làm thêm"
   ]
  },
  {
   "cell_type": "code",
   "execution_count": null,
   "id": "0e0172f7",
   "metadata": {},
   "outputs": [],
   "source": [
    "# code lab 2  bài làm thêm ở đây "
   ]
  }
 ],
 "metadata": {
  "kernelspec": {
   "display_name": "Python 3",
   "language": "python",
   "name": "python3"
  },
  "language_info": {
   "codemirror_mode": {
    "name": "ipython",
    "version": 3
   },
   "file_extension": ".py",
   "mimetype": "text/x-python",
   "name": "python",
   "nbconvert_exporter": "python",
   "pygments_lexer": "ipython3",
   "version": "3.13.0"
  }
 },
 "nbformat": 4,
 "nbformat_minor": 5
}
