{
 "cells": [
  {
   "cell_type": "markdown",
   "id": "fdeff819",
   "metadata": {},
   "source": [
    "# Sinh Viên thực hiện Lab 3 ở Đây"
   ]
  },
  {
   "cell_type": "markdown",
   "id": "acc5d7dc",
   "metadata": {},
   "source": [
    "## Lab 3 - Bài 1"
   ]
  },
  {
   "cell_type": "code",
   "execution_count": null,
   "id": "001e0507",
   "metadata": {},
   "outputs": [
    {
     "name": "stdout",
     "output_type": "stream",
     "text": [
      "[5, 12, 23, 24, 36, 45, 56, 78, 89, 90]\n",
      "5\n",
      "Trung binh cong cac so chia het cho 3 la: 47.5\n",
      "\n",
      "Nâng cao:\n",
      "List duoc sap xep giam dan: [90, 89, 78, 56, 45, 36, 24, 23, 12, 5]\n",
      "Gia tri nho nhat la: 5, vi tri cua gia tri nho nhat: 9\n"
     ]
    }
   ],
   "source": [
    "# Code lab 3 bài 1 ở đây\n",
    "number_list = [24, 12, 36, 5, 78, 23, 56, 89, 45, 90]\n",
    "print(\"List ban dau:\", number_list)\n",
    "number_list.sort()  # Sắp xếp tăng dần\n",
    "print(\"List sau khi sap xep tang dan:\", number_list)\n",
    "print(\"Gia tri nho nhat:\", number_list[0])\n",
    "Tong = 0\n",
    "Count = 0\n",
    "for n in number_list:\n",
    "    if n % 3 == 0:\n",
    "        Tong += n\n",
    "        Count += 1\n",
    "print(\"Trung binh cong cac so chia het cho 3 la:\", Tong/Count)\n",
    "\n",
    "# Nâng cao\n",
    "print(\"\\nNâng cao:\")\n",
    "number_list.sort(reverse=True)  # Sắp xếp giảm dần\n",
    "print(\"List duoc sap xep giam dan:\", number_list)\n",
    "print(f\"Gia tri nho nhat la: {min(number_list)}, vi tri cua gia tri nho nhat:\", number_list.index(min(number_list)))"
   ]
  },
  {
   "cell_type": "markdown",
   "id": "c0835310",
   "metadata": {},
   "source": [
    "## Lab 3 - Bài 2"
   ]
  },
  {
   "cell_type": "code",
   "execution_count": null,
   "id": "fa9cb39f",
   "metadata": {},
   "outputs": [
    {
     "name": "stdout",
     "output_type": "stream",
     "text": [
      "{'Name': 'Toan', 'Point': 9.0, 'Rank': 'Xuất sắc'}\n",
      "Nhập thông tin sinh viên thứ 1:\n",
      "Nhập thông tin sinh viên thứ 2:\n",
      "Danh sách sinh viên:\n",
      "\t [{'Name': 'Sy', 'Point': 9.0, 'Rank': 'Xuất sắc'}, {'Name': 'Toan', 'Point': 8.0, 'Rank': 'Giỏi'}]\n"
     ]
    }
   ],
   "source": [
    "# Code lab 3  bài 2 ở đây\n",
    "Student = {\n",
    "    \"Name\": \"\",\n",
    "    \"Point\": 0,\n",
    "    \"Rank\": \"\"\n",
    "}\n",
    "Student[\"Name\"] = input(\"Nhập tên: \")\n",
    "Student[\"Point\"] = float(input(\"Nhập điểm: \"))\n",
    "if Student[\"Point\"] >= 9 :\n",
    "        Student[\"Rank\"] = \"Xuất sắc\"\n",
    "elif Student[\"Point\"] >= 8:\n",
    "        Student[\"Rank\"] = \"Giỏi\"\n",
    "elif Student[\"Point\"] >= 7:\n",
    "        Student[\"Rank\"] = \"Khá\"\n",
    "elif Student[\"Point\"] >= 5:\n",
    "        Student[\"Rank\"] = \"Trung bình\"\n",
    "else:\n",
    "        Student[\"Rank\"] = \"Yếu\"\n",
    "print(Student)  \n",
    "\n",
    "\n",
    "## Nâng cao\n",
    "print(\"\\nNâng cao:\")\n",
    "Student_list = []\n",
    "number_of_students = int(input(\"Nhập số lượng sinh viên: \"))\n",
    "for i in range(number_of_students):\n",
    "        #print(f\"Nhập thông tin sinh viên thứ {i+1}:\")\n",
    "        Name = input(\"Nhập tên: \")\n",
    "        Point = float(input(\"Nhập điểm: \"))\n",
    "        Student_info = {\n",
    "                \"Name\": Name,\n",
    "                \"Point\": Point,\n",
    "                \"Rank\": \"\"\n",
    "        }\n",
    "        if Student_info[\"Point\"] >= 9 :\n",
    "                Student_info[\"Rank\"] = \"Xuất sắc\"\n",
    "        elif Student_info[\"Point\"] >= 8:\n",
    "                Student_info[\"Rank\"] = \"Giỏi\"\n",
    "        elif Student_info[\"Point\"] >= 7:\n",
    "                Student_info[\"Rank\"] = \"Khá\"\n",
    "        elif Student_info[\"Point\"] >= 5:\n",
    "                Student_info[\"Rank\"] = \"Trung bình\"\n",
    "        else:\n",
    "                Student_info[\"Rank\"] = \"Yếu\"\n",
    "        Student_list.append(Student_info) # Thêm thông tin sinh viên vào danh sách\n",
    "print(\"Danh sách sinh viên:\")\n",
    "print(\"\\t\",Student_list)\n",
    "\n"
   ]
  },
  {
   "cell_type": "markdown",
   "id": "0f2483fe",
   "metadata": {},
   "source": [
    "## Lab 3 - Bài 3"
   ]
  },
  {
   "cell_type": "code",
   "execution_count": null,
   "id": "7034990b",
   "metadata": {},
   "outputs": [
    {
     "name": "stdout",
     "output_type": "stream",
     "text": [
      "4 không phải là số nguyên tố\n"
     ]
    }
   ],
   "source": [
    "# Code lab 3  bài 3 ở đây\n",
    "number = int(input(\"Nhập số nguyên dương n: \"))\n",
    "Check = True\n",
    "flag = 2\n",
    "while flag < number - 1: # Kiểm tra từ 2 đến n-1\n",
    "    if number % flag == 0: # Nếu n chia hết cho flag\n",
    "        Check = False # n không phải số nguyên tố\n",
    "        break\n",
    "    flag += 1 # Tăng flag lên 1 để kiểm tra số tiếp theo\n",
    "if Check and number > 1: # Số nguyên tố là số lớn hơn 1 và không chia hết cho bất kỳ số nào khác ngoài 1 và chính nó\n",
    "    print(f\"{number} là số nguyên tố\")\n",
    "else:\n",
    "    print(f\"{number} không phải là số nguyên tố\")"
   ]
  },
  {
   "cell_type": "markdown",
   "id": "d36ea3d3",
   "metadata": {},
   "source": [
    "## Lab 3 - Bài 4"
   ]
  },
  {
   "cell_type": "code",
   "execution_count": null,
   "id": "4c707ec1",
   "metadata": {},
   "outputs": [
    {
     "name": "stdout",
     "output_type": "stream",
     "text": [
      " 2 x 1 = 2\n",
      " 2 x 2 = 4\n",
      " 2 x 3 = 6\n",
      " 2 x 4 = 8\n",
      " 2 x 5 = 10\n",
      " 2 x 6 = 12\n",
      " 2 x 7 = 14\n",
      " 2 x 8 = 16\n",
      " 2 x 9 = 18\n",
      "\n",
      " Bảng cuu chương từ 1 đến 9: \n",
      " 1 x 1 = 1\t 2 x 1 = 2\t 3 x 1 = 3\t 4 x 1 = 4\t 5 x 1 = 5\t 6 x 1 = 6\t 7 x 1 = 7\t 8 x 1 = 8\t 9 x 1 = 9\t\n",
      " 1 x 2 = 2\t 2 x 2 = 4\t 3 x 2 = 6\t 4 x 2 = 8\t 5 x 2 = 10\t 6 x 2 = 12\t 7 x 2 = 14\t 8 x 2 = 16\t 9 x 2 = 18\t\n",
      " 1 x 3 = 3\t 2 x 3 = 6\t 3 x 3 = 9\t 4 x 3 = 12\t 5 x 3 = 15\t 6 x 3 = 18\t 7 x 3 = 21\t 8 x 3 = 24\t 9 x 3 = 27\t\n",
      " 1 x 4 = 4\t 2 x 4 = 8\t 3 x 4 = 12\t 4 x 4 = 16\t 5 x 4 = 20\t 6 x 4 = 24\t 7 x 4 = 28\t 8 x 4 = 32\t 9 x 4 = 36\t\n",
      " 1 x 5 = 5\t 2 x 5 = 10\t 3 x 5 = 15\t 4 x 5 = 20\t 5 x 5 = 25\t 6 x 5 = 30\t 7 x 5 = 35\t 8 x 5 = 40\t 9 x 5 = 45\t\n",
      " 1 x 6 = 6\t 2 x 6 = 12\t 3 x 6 = 18\t 4 x 6 = 24\t 5 x 6 = 30\t 6 x 6 = 36\t 7 x 6 = 42\t 8 x 6 = 48\t 9 x 6 = 54\t\n",
      " 1 x 7 = 7\t 2 x 7 = 14\t 3 x 7 = 21\t 4 x 7 = 28\t 5 x 7 = 35\t 6 x 7 = 42\t 7 x 7 = 49\t 8 x 7 = 56\t 9 x 7 = 63\t\n",
      " 1 x 8 = 8\t 2 x 8 = 16\t 3 x 8 = 24\t 4 x 8 = 32\t 5 x 8 = 40\t 6 x 8 = 48\t 7 x 8 = 56\t 8 x 8 = 64\t 9 x 8 = 72\t\n",
      " 1 x 9 = 9\t 2 x 9 = 18\t 3 x 9 = 27\t 4 x 9 = 36\t 5 x 9 = 45\t 6 x 9 = 54\t 7 x 9 = 63\t 8 x 9 = 72\t 9 x 9 = 81\t\n"
     ]
    }
   ],
   "source": [
    "# code lab 3 bài 4 ở đây\n",
    "number = int(input(\"Nhập số nguyên dương n: \"))\n",
    "for i in range(1, 10 ):\n",
    "        print(\" %d x %d = %d\" % (number, i, number*i))\n",
    "\n",
    "# Nâng cao\n",
    "print(\"\\nNâng cao:\")\n",
    "print(\"\\n Bảng cuu chương từ 1 đến 9: \")\n",
    "for i in range(1, 10):\n",
    "    for j in range(1, 10):\n",
    "        print(\" %d x %d = %d\" % ( j, i, i * j), end=\"\\t\") ## In cách nhau bằng tab\n",
    "    print() # Xuống dòng sau mỗi bảng nhân\n",
    "        \n",
    "        \n"
   ]
  },
  {
   "cell_type": "markdown",
   "id": "e2b41d4a",
   "metadata": {},
   "source": [
    "## Lab 3 - Bài 5: bài tập làm thêm"
   ]
  },
  {
   "cell_type": "code",
   "execution_count": null,
   "id": "0e0172f7",
   "metadata": {},
   "outputs": [],
   "source": [
    "# code lab 3  bài làm thêm ở đây "
   ]
  }
 ],
 "metadata": {
  "kernelspec": {
   "display_name": "Python 3",
   "language": "python",
   "name": "python3"
  },
  "language_info": {
   "codemirror_mode": {
    "name": "ipython",
    "version": 3
   },
   "file_extension": ".py",
   "mimetype": "text/x-python",
   "name": "python",
   "nbconvert_exporter": "python",
   "pygments_lexer": "ipython3",
   "version": "3.13.0"
  }
 },
 "nbformat": 4,
 "nbformat_minor": 5
}
