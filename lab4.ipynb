{
 "cells": [
  {
   "cell_type": "markdown",
   "id": "fdeff819",
   "metadata": {},
   "source": [
    "# Sinh Viên thực hiện Lab 4 ở Đây"
   ]
  },
  {
   "cell_type": "markdown",
   "id": "acc5d7dc",
   "metadata": {},
   "source": [
    "## Lab 1 - Bài 1"
   ]
  },
  {
   "cell_type": "code",
   "execution_count": null,
   "id": "001e0507",
   "metadata": {},
   "outputs": [
    {
     "name": "stderr",
     "output_type": "stream",
     "text": [
      "UsageError: Line magic function `%%writefile` not found.\n"
     ]
    }
   ],
   "source": [
    "# Code lab 4 bài 1 ở đây\n",
    "def Calculate_water_bill(usage):\n",
    "    if usage <= 10:\n",
    "        bill = usage * 7500\n",
    "    elif usage <= 20:\n",
    "        bill = 10 * 7500 + (usage - 10) * 8800\n",
    "    elif usage <= 30:\n",
    "        bill = 10 * 7500 + 10 * 8800 + (usage - 20) * 12000\n",
    "    else:\n",
    "        bill = 10 * 7500 + 10 * 8800 + 10 * 12000 + (usage - 30) * 24000\n",
    "    return bill\n",
    "\n",
    "usage = int(input(\"Nhập số lượng nước sử dụng\"))\n",
    "print(\"Số tiền nước phải trả là:\", Calculate_water_bill(usage))"
   ]
  },
  {
   "cell_type": "markdown",
   "id": "c0835310",
   "metadata": {},
   "source": [
    "## Lab 4 - Bài 2"
   ]
  },
  {
   "cell_type": "code",
   "execution_count": 15,
   "id": "fa9cb39f",
   "metadata": {},
   "outputs": [
    {
     "name": "stdout",
     "output_type": "stream",
     "text": [
      "Nguyên liệu cần chuẩn bị: {'Sugar': 3.1, 'Beans': 1.3}\n"
     ]
    }
   ],
   "source": [
    "# Code lab 4  bài 2 ở đây\n",
    "def calculate_ingredients(number_of_bean_cakes, number_of_mix_cake, number_of_other_cake):\n",
    "    ingredients = {\n",
    "        \"Sugar\" : \"\",\n",
    "        \"Beans\": \"\" \n",
    "        }\n",
    "    ingredients[\"Sugar\"] = round((number_of_bean_cakes * 0.04 + number_of_mix_cake *0.06 + number_of_other_cake * 0.05),1)\n",
    "    ingredients[\"Beans\"] = round((number_of_bean_cakes * 0.07 + number_of_mix_cake *0 + number_of_other_cake * 0.02),1)\n",
    "    return ingredients\n",
    "\n",
    "number_of_bean_cakes = int(input(\"Nhập số bánh đậu xanh: \"))\n",
    "number_of_mix_cake = int(input(\"Nhập số bánh thập cẩm: \"))\n",
    "number_of_other_cake = int(input(\"Nhập số bánh dẻo: \"))\n",
    "cake_box = calculate_ingredients(number_of_bean_cakes, number_of_mix_cake, number_of_other_cake)\n",
    "print(\"Nguyên liệu cần chuẩn bị:\", cake_box)"
   ]
  },
  {
   "cell_type": "markdown",
   "id": "0f2483fe",
   "metadata": {},
   "source": [
    "## Lab 4 - Bài 3"
   ]
  },
  {
   "cell_type": "code",
   "execution_count": null,
   "id": "7034990b",
   "metadata": {},
   "outputs": [
    {
     "name": "stdout",
     "output_type": "stream",
     "text": [
      "Danh sach so vua nhap: [12, 13, 144, 15]\n",
      "Danh sach so chan: [12, 144]\n",
      "Nâng cao\n",
      "Danh sach so vua nhap: [20, 33, 335, 666]\n",
      "Danh sach so chan: [20, 666]\n"
     ]
    }
   ],
   "source": [
    "# Code lab 4  bài 3 ở đây\n",
    "def get_number():\n",
    "    while True:\n",
    "        try:\n",
    "            number = []\n",
    "            raw_input = input(\"Nhap so nguyen:\").split() # tách chuỗi thành các phần tử\n",
    "            for x in raw_input:\n",
    "                number.append(int(x)) # chuyển từng phần tử thành số nguyên và thêm vào danh sách\n",
    "            return number\n",
    "        except ValueError:\n",
    "            print(\"Vui long nhap so nguyen\")\n",
    "            \n",
    "def filter_number(filter_list_number):\n",
    "    new_list = list(filter(lambda x: x % 2 == 0, filter_list_number))\n",
    "    return new_list\n",
    "    \n",
    "\n",
    "list_number = get_number()\n",
    "print(\"Danh sach so vua nhap:\", list_number)\n",
    "print(\"Danh sach so chan:\", filter_number(list_number))\n",
    "\n",
    "# Nâng cao\n",
    "print(\"Nâng cao\")\n",
    "def get_number_1():\n",
    "    number = []\n",
    "    while True:\n",
    "        raw_input = input(\"\"\"Nhap so nguyen( bấm \"s\" để ngưng nhập số):\"\"\")\n",
    "        if raw_input.lower() == \"s\":\n",
    "            break\n",
    "        try:\n",
    "            number.append(int(raw_input))\n",
    "        except ValueError:\n",
    "            print(\"Vui long nhap so nguyen\")\n",
    "    return number\n",
    "            \n",
    "list_number_1 = get_number_1()\n",
    "print(\"Danh sach so vua nhap:\", list_number_1)\n",
    "print(\"Danh sach so chan:\", filter_number(list_number_1))\n",
    " \n",
    "\n",
    "   "
   ]
  },
  {
   "cell_type": "markdown",
   "id": "d36ea3d3",
   "metadata": {},
   "source": [
    "## Lab 4 - Bài 4"
   ]
  },
  {
   "cell_type": "code",
   "execution_count": null,
   "id": "4c707ec1",
   "metadata": {},
   "outputs": [
    {
     "name": "stdout",
     "output_type": "stream",
     "text": [
      "+---------------------------------+\n",
      "1: Tính tiền nước sinh  hoạt\n",
      "2: Tính nguyên liệu làm bánh\n",
      "3: Kết thúc chương trình\n",
      "+---------------------------------+\n",
      "Chọn chức năng bạn muốn sử dụng\n",
      "\n",
      "Bạn đã chọn chức năng 1\n",
      "Nhập số lượng nước sử dụng\n",
      "Số tiền nước phải trả là: 199000\n",
      "\n",
      "+---------------------------------+\n",
      "1: Tính tiền nước sinh  hoạt\n",
      "2: Tính nguyên liệu làm bánh\n",
      "3: Kết thúc chương trình\n",
      "+---------------------------------+\n",
      "Chọn chức năng bạn muốn sử dụng\n",
      "\n",
      "Bạn đã chọn chức năng 2\n",
      "Số lượng bánh đã nhập: 23 bánh đậu xanh, 10 bánh thập cẩm, 30 bánh dẻo\n",
      "Nguyên liệu cần chuẩn bị: {'Sugar': 3.0, 'Beans': 2.2}\n",
      "\n",
      "+---------------------------------+\n",
      "1: Tính tiền nước sinh  hoạt\n",
      "2: Tính nguyên liệu làm bánh\n",
      "3: Kết thúc chương trình\n",
      "+---------------------------------+\n",
      "Chọn chức năng bạn muốn sử dụng\n",
      "\n",
      "Bạn đã chọn chức năng 3\n",
      "Kết thúc chương trình\n"
     ]
    }
   ],
   "source": [
    "# code lab 4 bài 4 ở đây\n",
    "while True:\n",
    "    print(\"+---------------------------------+\")\n",
    "    print(\"1: Tính tiền nước sinh  hoạt\")\n",
    "    print(\"2: Tính nguyên liệu làm bánh\")\n",
    "    print(\"3: Kết thúc chương trình\")\n",
    "    print(\"+---------------------------------+\")\n",
    "\n",
    "\n",
    "    print(\"Chọn chức năng bạn muốn sử dụng\")\n",
    "    function_input = input(\"Nhập 1, 2 hoặc 3:\")\n",
    "    import water_bill_module\n",
    "    import cake_ingredients_module\n",
    "    if function_input == \"1\":\n",
    "            print(\"\\nBạn đã chọn chức năng 1\")\n",
    "            print(\"Nhập số lượng nước sử dụng\")\n",
    "            usage = int(input(\"Nhập số lượng nước sử dụng\"))\n",
    "            print(\"Số tiền nước phải trả là:\", water_bill_module.Calculate_water_bill(usage))\n",
    "            print()\n",
    "    elif function_input == \"2\":\n",
    "            print(\"\\nBạn đã chọn chức năng 2\")\n",
    "            number_of_bean_cakes = int(input(\"Nhập số bánh đậu xanh: \"))\n",
    "            number_of_mix_cake = int(input(\"Nhập số bánh thập cẩm: \"))\n",
    "            number_of_other_cake = int(input(\"Nhập số bánh dẻo: \"))\n",
    "            print(\"Số lượng bánh đã nhập: %d bánh đậu xanh, %d bánh thập cẩm, %d bánh dẻo\" % (number_of_bean_cakes, number_of_mix_cake, number_of_other_cake))\n",
    "            cake_box = cake_ingredients_module.calculate_ingredients(number_of_bean_cakes, number_of_mix_cake, number_of_other_cake)\n",
    "            print(\"Nguyên liệu cần chuẩn bị:\", cake_box)\n",
    "            print()\n",
    "    elif function_input == \"3\":\n",
    "        print(\"\\nBạn đã chọn chức năng 3\")\n",
    "        print(\"Kết thúc chương trình\")\n",
    "        break\n",
    "    else:\n",
    "        print(\"Chức năng không hợp lệ, vui lòng chọn lại\")\n",
    "    \n",
    "    \n",
    "    \n",
    "    \n",
    "    "
   ]
  },
  {
   "cell_type": "markdown",
   "id": "e2b41d4a",
   "metadata": {},
   "source": [
    "## Lab 4 - Bài 5: bài tập làm thêm"
   ]
  },
  {
   "cell_type": "code",
   "execution_count": null,
   "id": "0e0172f7",
   "metadata": {},
   "outputs": [],
   "source": [
    "# code lab 4  bài làm thêm ở đây "
   ]
  }
 ],
 "metadata": {
  "kernelspec": {
   "display_name": "Python 3",
   "language": "python",
   "name": "python3"
  },
  "language_info": {
   "codemirror_mode": {
    "name": "ipython",
    "version": 3
   },
   "file_extension": ".py",
   "mimetype": "text/x-python",
   "name": "python",
   "nbconvert_exporter": "python",
   "pygments_lexer": "ipython3",
   "version": "3.13.0"
  }
 },
 "nbformat": 4,
 "nbformat_minor": 5
}
