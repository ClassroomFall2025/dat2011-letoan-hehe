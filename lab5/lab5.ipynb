{
 "cells": [
  {
   "cell_type": "markdown",
   "id": "fdeff819",
   "metadata": {},
   "source": [
    "# Sinh Viên thực hiện Lab 5 ở Đây"
   ]
  },
  {
   "cell_type": "markdown",
   "id": "acc5d7dc",
   "metadata": {},
   "source": [
    "## Lab 5 - Bài 1"
   ]
  },
  {
   "cell_type": "code",
   "execution_count": null,
   "id": "001e0507",
   "metadata": {},
   "outputs": [
    {
     "name": "stdout",
     "output_type": "stream",
     "text": [
      "\n",
      "        Tên sản phẩm: Bia\n",
      "        Gía: 200000\n",
      "        Giảm giá: 190000\n",
      "        Thuế : 20000\n",
      "        \n"
     ]
    }
   ],
   "source": [
    "# Code lab 5 bài 1 ở đây\n",
    "from lab5_module_sp import *\n",
    "sp = Sanpham(\"Bia\", 200000, 190000)\n",
    "sp.xuat_tt()"
   ]
  },
  {
   "cell_type": "markdown",
   "id": "c0835310",
   "metadata": {},
   "source": [
    "## Lab 5 - Bài 2"
   ]
  },
  {
   "cell_type": "code",
   "execution_count": null,
   "id": "fa9cb39f",
   "metadata": {},
   "outputs": [
    {
     "name": "stdout",
     "output_type": "stream",
     "text": [
      "\n",
      "        Tên sản phẩm: Bia\n",
      "        Gía: 200\n",
      "        Giảm giá: 150\n",
      "        Thuế : 20\n",
      "        \n",
      "\n",
      "        Tên sản phẩm: Ruou\n",
      "        Gía: 200\n",
      "        Giảm giá: 150\n",
      "        Thuế : 20\n",
      "        \n"
     ]
    }
   ],
   "source": [
    "# Code lab 5  bài 2 ở đây\n",
    "from lab5_module_sp import *\n",
    "sp1 = Sanpham()\n",
    "sp2 = Sanpham()\n",
    "sp1.nhap_tt()\n",
    "sp1.xuat_tt()\n",
    "sp2.nhap_tt()\n",
    "sp2.xuat_tt()"
   ]
  },
  {
   "cell_type": "markdown",
   "id": "0f2483fe",
   "metadata": {},
   "source": [
    "## Lab 5 - Bài 3"
   ]
  },
  {
   "cell_type": "code",
   "execution_count": null,
   "id": "7034990b",
   "metadata": {},
   "outputs": [
    {
     "name": "stdout",
     "output_type": "stream",
     "text": [
      "\n",
      "        Tên sản phẩm: Bia\n",
      "        Gía: 200\n",
      "        Giảm giá: 150\n",
      "        Thuế : 20\n",
      "        \n",
      "{'_Sanpham__ten': 'Bia', '_Sanpham__gia': 200, '_Sanpham__giam_gia': 150}\n",
      "\n",
      "        Tên sản phẩm: Ruou\n",
      "        Gía: 500\n",
      "        Giảm giá: 450\n",
      "        Thuế : 50\n",
      "        \n",
      "{'_Sanpham__ten': 'Ruou', '_Sanpham__gia': 500, '_Sanpham__giam_gia': 450}\n"
     ]
    }
   ],
   "source": [
    "# Code lab 5  bài 3 ở đây\n",
    "from lab5_module_sp import *\n",
    "sp1 = Sanpham()\n",
    "sp2 = Sanpham()\n",
    "sp1.nhap_tt()\n",
    "sp1.xuat_tt()\n",
    "print(sp1.__dict__)\n",
    "sp2.nhap_tt()\n",
    "sp2.xuat_tt()\n",
    "print(sp2.__dict__)"
   ]
  },
  {
   "cell_type": "markdown",
   "id": "d36ea3d3",
   "metadata": {},
   "source": [
    "## Lab 5 - Bài 4"
   ]
  },
  {
   "cell_type": "code",
   "execution_count": null,
   "id": "4c707ec1",
   "metadata": {},
   "outputs": [
    {
     "name": "stdout",
     "output_type": "stream",
     "text": [
      "\n",
      "        Tên sản phẩm: Bia\n",
      "        Gía: 2000\n",
      "        Giảm giá: 1500\n",
      "        Thuế : 200\n",
      "        \n",
      "{'_Sanpham__ten': 'Bia', '_Sanpham__gia': 2000, '_Sanpham__giam_gia': 1500}\n",
      "\n",
      "        Tên sản phẩm: Rượu\n",
      "        Gía: 2500\n",
      "        Giảm giá: 2000\n",
      "        Thuế : 250\n",
      "        \n",
      "{'_Sanpham__ten': 'Rượu', '_Sanpham__gia': 2500, '_Sanpham__giam_gia': 2000}\n",
      "\n",
      "        Tên sản phẩm: Bia\n",
      "        Gía: 2000\n",
      "        Giảm giá: 1500\n",
      "        Thuế : 200\n",
      "        \n"
     ]
    }
   ],
   "source": [
    "# code lab 5 bài 4 ở đây\n",
    "from lab5_module_sp import *\n",
    "sp1 = Sanpham(\"Bia\", 2000, 1500)\n",
    "sp2 = Sanpham(\"Rượu\", 2500, 2000)\n",
    "sp1.xuat_tt()\n",
    "print(sp1.__dict__)\n",
    "sp2.xuat_tt()\n",
    "print(sp2.__dict__)\n",
    "print(sp1) # su dung def __str__\n"
   ]
  },
  {
   "cell_type": "markdown",
   "id": "e2b41d4a",
   "metadata": {},
   "source": [
    "## Lab 5 - Bài 5: bài tập làm thêm"
   ]
  },
  {
   "cell_type": "code",
   "execution_count": 1,
   "id": "0e0172f7",
   "metadata": {},
   "outputs": [
    {
     "name": "stdout",
     "output_type": "stream",
     "text": [
      "========================MENU CHƯƠNG TRÌNH=======================\n",
      "| 1 : Tính cộng trừ nhân chia                                  |\n",
      "| 2 : Tính lũy thừa                                            |\n",
      "| 3 : Tính căn bậc 2                                           |\n",
      "| 4 : Tính hàm lượng giác                                      |\n",
      "| 5 : Tính logarit                                             |\n",
      "| 6 : Giải phương trình bậc 1                                  |\n",
      "| 7 : Giải phương trình bậc 2                                  |\n",
      "| 8 : Xem lịch sử sử dụng                                      |\n",
      "| 9 : Xem đồng hồ                                              |\n",
      "| 10 : Thoát chương trình                                       |\n",
      "================================================================\n"
     ]
    },
    {
     "name": "stdout",
     "output_type": "stream",
     "text": [
      "Trừ 2 số: 2 - 3 = -1.00 \n",
      "1 mũ 2 = 1.00\n",
      "Căn bậc 2 của 8.00 là: 2.83\n",
      "sin(40.00) = 0.64\n",
      "log(10.00) = 1.00\n",
      "Lịch sử chức năng đã dùng\n",
      "1.Phép tính cơ bản\n",
      "2.Phép tính lũy thừa\n",
      "3.Phép tính căn bậc 2\n",
      "4.Phép tính hàm lượng giác\n",
      "5.Phép tính logarit\n",
      " Bây giờ là : 11/10/2025 13:52:08 \n",
      "Cảm ơn\n"
     ]
    }
   ],
   "source": [
    "# code lab 5  bài làm thêm ở đây \n",
    "from lab5_module_maytinhbotui import *\n",
    "mt = Maytinh()\n",
    "mt.hien_menu()\n",
    "mt.chay_ct()\n"
   ]
  }
 ],
 "metadata": {
  "kernelspec": {
   "display_name": "Python 3",
   "language": "python",
   "name": "python3"
  },
  "language_info": {
   "codemirror_mode": {
    "name": "ipython",
    "version": 3
   },
   "file_extension": ".py",
   "mimetype": "text/x-python",
   "name": "python",
   "nbconvert_exporter": "python",
   "pygments_lexer": "ipython3",
   "version": "3.13.0"
  }
 },
 "nbformat": 4,
 "nbformat_minor": 5
}
