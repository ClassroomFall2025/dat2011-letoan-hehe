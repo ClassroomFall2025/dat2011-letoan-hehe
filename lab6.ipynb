{
 "cells": [
  {
   "cell_type": "markdown",
   "id": "fdeff819",
   "metadata": {},
   "source": [
    "# Sinh Viên thực hiện Lab 6 ở Đây"
   ]
  },
  {
   "cell_type": "markdown",
   "id": "acc5d7dc",
   "metadata": {},
   "source": [
    "## Lab 6 - Bài 1"
   ]
  },
  {
   "cell_type": "code",
   "execution_count": null,
   "id": "001e0507",
   "metadata": {},
   "outputs": [],
   "source": [
    "# Code lab 6 bài 1 ở đây\n",
    "from lab6_module import *\n",
    "hcn = Chunhat()\n",
    "hcn.get_thong_tin()\n",
    "hcn.get_chu_vi()\n",
    "hcn.get_dien_tich()\n",
    "hcn.xuat_tt()\n"
   ]
  },
  {
   "cell_type": "markdown",
   "id": "c0835310",
   "metadata": {},
   "source": [
    "## Lab 6 - Bài 2"
   ]
  },
  {
   "cell_type": "code",
   "execution_count": null,
   "id": "fa9cb39f",
   "metadata": {},
   "outputs": [],
   "source": [
    "# Code lab 6  bài 2 ở đây\n",
    "class SVpoly():\n",
    "    def __init__(self,ten, nganh_hoc):\n",
    "        self.ten = ten\n",
    "        self.nganh_hoc = nganh_hoc\n",
    "        \n",
    "    def get_diem(self):\n",
    "        pass\n",
    "    \n",
    "    def hoc_luc(self):\n",
    "        if self.get_diem() >=9 and self.get_diem() <= 10:\n",
    "            return \"Xuat sac\"\n",
    "        if self.get_diem() >=8:\n",
    "            return \"Gioi\"\n",
    "        if self.get_diem() >=7:\n",
    "            return \"Kha\"\n",
    "        if self.get_diem() >=5:\n",
    "            return \"Trung binh\"\n",
    "        else:\n",
    "            return \"Chua dat\"\n",
    "        \n",
    "    def xuat_tt(self):\n",
    "        print(f\" Ten sinh vien: {self.ten}, Nganh hoc: {self.nganh_hoc.upper()}, Diem: {self.get_diem()}, Hoc luc: {self.hoc_luc()}\")\n",
    "class SvIT(SVpoly):\n",
    "    def __init__(self, ten, nganh_hoc, diem_java, diem_html, diem_css):\n",
    "        super().__init__(ten, nganh_hoc)\n",
    "        self.diem_java = diem_java\n",
    "        self.diem_html = diem_html\n",
    "        self.diem_css = diem_css\n",
    "        \n",
    "    def get_diem(self):\n",
    "        return( 2 * self.diem_java + self.diem_html + self.diem_css) /4\n",
    "    \n",
    "class SvBiz(SVpoly):\n",
    "    def __init__(self, ten, nganh_hoc, diem_marketing, diem_sales):\n",
    "        super().__init__(ten, nganh_hoc)\n",
    "        self.diem_marketing = diem_marketing\n",
    "        self.diem_sales = diem_sales\n",
    "        \n",
    "    def get_diem(self):\n",
    "        return ( 2 * self.diem_marketing + self.diem_sales)/3"
   ]
  },
  {
   "cell_type": "markdown",
   "id": "0f2483fe",
   "metadata": {},
   "source": [
    "## Lab 6 - Bài 3"
   ]
  },
  {
   "cell_type": "code",
   "execution_count": null,
   "id": "7034990b",
   "metadata": {},
   "outputs": [],
   "source": [
    "# Code lab 6  bài 3 ở đây\n",
    "class SVpoly():\n",
    "    def __init__(self,ten, nganh_hoc):\n",
    "        self.ten = ten\n",
    "        self.nganh_hoc = nganh_hoc\n",
    "        \n",
    "    def get_diem(self):\n",
    "        pass\n",
    "    \n",
    "    def hoc_luc(self):\n",
    "        if self.get_diem() >=9 and self.get_diem() <= 10:\n",
    "            return \"Xuat sac\"\n",
    "        if self.get_diem() >=8:\n",
    "            return \"Gioi\"\n",
    "        if self.get_diem() >=7:\n",
    "            return \"Kha\"\n",
    "        if self.get_diem() >=5:\n",
    "            return \"Trung binh\"\n",
    "        else:\n",
    "            return \"Chua dat\"\n",
    "        \n",
    "    def xuat_tt(self):\n",
    "        print(f\" Ten sinh vien: {self.ten}, Nganh hoc: {self.nganh_hoc.upper()}, Diem: {self.get_diem()}, Hoc luc: {self.hoc_luc()}\")\n",
    "class SvIT(SVpoly):\n",
    "    def __init__(self, ten, nganh_hoc, diem_java, diem_html, diem_css):\n",
    "        super().__init__(ten, nganh_hoc)\n",
    "        self.diem_java = diem_java\n",
    "        self.diem_html = diem_html\n",
    "        self.diem_css = diem_css\n",
    "        \n",
    "    def get_diem(self):\n",
    "        return( 2 * self.diem_java + self.diem_html + self.diem_css) /4\n",
    "    \n",
    "class SvBiz(SVpoly):\n",
    "    def __init__(self, ten, nganh_hoc, diem_marketing, diem_sales):\n",
    "        super().__init__(ten, nganh_hoc)\n",
    "        self.diem_marketing = diem_marketing\n",
    "        self.diem_sales = diem_sales\n",
    "        \n",
    "    def get_diem(self):\n",
    "        return ( 2 * self.diem_marketing + self.diem_sales)/3"
   ]
  },
  {
   "cell_type": "markdown",
   "id": "d36ea3d3",
   "metadata": {},
   "source": [
    "## Lab 6 - Bài 4"
   ]
  },
  {
   "cell_type": "code",
   "execution_count": 2,
   "id": "4c707ec1",
   "metadata": {},
   "outputs": [
    {
     "name": "stdout",
     "output_type": "stream",
     "text": [
      "========================MENU========================\n",
      "1. Nhap danh sach sinh vien\n",
      "2. Xuat thong tin danh sach sinh vien\n",
      "3. Xuat danh sach sinh vien co hoc luc gioi\n",
      "4. Sap xep danh sach sinh vien theo diem\n",
      "5. Thoat\n",
      "====================================================\n",
      "Chon chuc nang truong chinh: \n",
      "Nhap danh sach sinh vien\n",
      "========================MENU========================\n",
      "1. Nhap danh sach sinh vien\n",
      "2. Xuat thong tin danh sach sinh vien\n",
      "3. Xuat danh sach sinh vien co hoc luc gioi\n",
      "4. Sap xep danh sach sinh vien theo diem\n",
      "5. Thoat\n",
      "====================================================\n",
      "Chon chuc nang truong chinh: \n",
      "Sap xep danh sach sinh vien theo diem\n",
      " Ten sinh vien: Toan, Nganh hoc: IT, Diem: 10.0, Hoc luc: Xuat sac\n",
      " Ten sinh vien: Toan, Nganh hoc: IT, Diem: 5.75, Hoc luc: Trung binh\n",
      "========================MENU========================\n",
      "1. Nhap danh sach sinh vien\n",
      "2. Xuat thong tin danh sach sinh vien\n",
      "3. Xuat danh sach sinh vien co hoc luc gioi\n",
      "4. Sap xep danh sach sinh vien theo diem\n",
      "5. Thoat\n",
      "====================================================\n",
      "Chon chuc nang truong chinh: \n",
      "Thoat chuong trinh\n"
     ]
    }
   ],
   "source": [
    "# code lab 6 bài 4 ở đây\n",
    "from lab6_Ql_SV_module import *\n",
    "menu = {\n",
    "    \"1\": \"Nhap danh sach sinh vien\",\n",
    "    \"2\": \"Xuat thong tin danh sach sinh vien\",\n",
    "    \"3\": \"Xuat danh sach sinh vien co hoc luc gioi\",\n",
    "    \"4\": \"Sap xep danh sach sinh vien theo diem\",\n",
    "    \"5\": \"Thoat\"\n",
    "}\n",
    "ds = QuanLySinhVien()\n",
    "while True:\n",
    "    print(\"===\" * 8 + \"MENU\" + \"===\" * 8)\n",
    "    for k, v in menu.items():\n",
    "        print(f\"{k}. {v}\")\n",
    "    print(\"===\" * 8 + \"====\" + \"===\" * 8)\n",
    "    print(\"Chon chuc nang truong chinh: \")\n",
    "    lua_chon = input(\"Nhap  chuc nang truong chinh: \")\n",
    "    match lua_chon:\n",
    "        case \"5\":\n",
    "            print(\"Thoat chuong trinh\")\n",
    "            break\n",
    "        case \"1\":\n",
    "            print(\"Nhap danh sach sinh vien\")\n",
    "            \n",
    "            ds.nhap_dssv()\n",
    "        case \"2\":\n",
    "            print(\"Xuat thong tin danh sach sinh vien\")\n",
    "            ds.xuat_dssv()\n",
    "        case \"3\":\n",
    "            print(\"Xuat danh sach sinh vien co hoc luc gioi\")\n",
    "            # Gọi hàm xuất danh sách sinh viên có học lực giỏi ở đây\n",
    "            ds.xuat_dssv_gioi()\n",
    "        case \"4\":\n",
    "            print(\"Sap xep danh sach sinh vien theo diem\")\n",
    "            # Gọi hàm sắp xếp danh sách sinh viên theo điểm ở đây\n",
    "            ds_sv =ds.sap_xep_dssv()\n",
    "            for sv in ds_sv:\n",
    "                sv.xuat_tt()\n",
    "        case _:\n",
    "            print(\"Chua chon dung chuc nang\")"
   ]
  },
  {
   "cell_type": "markdown",
   "id": "e2b41d4a",
   "metadata": {},
   "source": [
    "## Lab 6 - Bài 5: bài tập làm thêm"
   ]
  },
  {
   "cell_type": "code",
   "execution_count": null,
   "id": "0e0172f7",
   "metadata": {},
   "outputs": [],
   "source": [
    "# code lab 6  bài làm thêm ở đây "
   ]
  }
 ],
 "metadata": {
  "kernelspec": {
   "display_name": "Python 3",
   "language": "python",
   "name": "python3"
  },
  "language_info": {
   "codemirror_mode": {
    "name": "ipython",
    "version": 3
   },
   "file_extension": ".py",
   "mimetype": "text/x-python",
   "name": "python",
   "nbconvert_exporter": "python",
   "pygments_lexer": "ipython3",
   "version": "3.13.0"
  }
 },
 "nbformat": 4,
 "nbformat_minor": 5
}
