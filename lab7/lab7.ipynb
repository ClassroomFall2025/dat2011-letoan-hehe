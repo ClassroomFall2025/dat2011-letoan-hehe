{
 "cells": [
  {
   "cell_type": "markdown",
   "id": "fdeff819",
   "metadata": {},
   "source": [
    "# Sinh Viên thực hiện Lab 7 ở Đây"
   ]
  },
  {
   "cell_type": "markdown",
   "id": "acc5d7dc",
   "metadata": {},
   "source": [
    "## Lab 7 - Bài 1"
   ]
  },
  {
   "cell_type": "code",
   "execution_count": null,
   "id": "001e0507",
   "metadata": {},
   "outputs": [
    {
     "name": "stdout",
     "output_type": "stream",
     "text": [
      "Trương Quốc Khánh\n"
     ]
    }
   ],
   "source": [
    "# Code lab 7 bài 1 ở đây\n",
    "file = open(\"Resource.txt\", \"r\", encoding=\"utf-8\")\n",
    "print(file.read())\n",
    "file.close()\n",
    "#Đọc 9 dòng dầu tiền của file Resource.txt\n",
    "file = open(\"Resource.txt\", \"r\", encoding = \"utf-8\")\n",
    "for i in range(9):\n",
    "    print(file.readline())\n",
    "file.close()\n",
    "#Đọc file Resource và in ra tên tác giả\n",
    "file = open(\"Resource.txt\", \"r\", encoding=\"utf-8\")\n",
    "lines = file.readlines()# Read từng dùng\n",
    "for line in lines: # duyệt qua từng dòng\n",
    "    if \"Trương Quốc Khánh\" in line: # Nếu tìm thấy tên tác giả\n",
    "        print(line.strip())# In ra dòng chứa tên tác giả\n",
    "file.close()\n"
   ]
  },
  {
   "cell_type": "markdown",
   "id": "c0835310",
   "metadata": {},
   "source": [
    "## Lab 7 - Bài 2"
   ]
  },
  {
   "cell_type": "code",
   "execution_count": 1,
   "id": "fa9cb39f",
   "metadata": {},
   "outputs": [],
   "source": [
    "# Code lab 7  bài 2 ở đây\n",
    "with open(\"Lab7- Resource2.txt\", \"w\", encoding = \"utf-8\") as file:\n",
    "    file.write('\"...')\n",
    "    file.write('Nếu một mai tôi có bay lên trời\\n')\n",
    "    file.write('Thì người ơi tôi đã sống rất thảnh thơi\\n')\n",
    "    file.write('Nếu một mai tôi có đi qua đời\\n')\n",
    "    file.write('Thì người ơi tôi đã sống rất tuyệt vời\\n')\n",
    "    file.write('...\"')\n",
    "    "
   ]
  },
  {
   "cell_type": "markdown",
   "id": "0f2483fe",
   "metadata": {},
   "source": [
    "## Lab 7 - Bài 3"
   ]
  },
  {
   "cell_type": "code",
   "execution_count": 2,
   "id": "7034990b",
   "metadata": {},
   "outputs": [
    {
     "name": "stdout",
     "output_type": "stream",
     "text": [
      "\n",
      "--- Bài thơ thứ 1 ---\n",
      "\n",
      "--- Bài thơ thứ 2 ---\n",
      "\n",
      "--- Bài thơ thứ 3 ---\n",
      "\n",
      "--- Bài thơ thứ 4 ---\n",
      "\n",
      "--- Bài thơ thứ 5 ---\n",
      "\n",
      " Đã lưu thông tin 5 bài thơ vào file 'lab7bai3.cvs' thành công!\n"
     ]
    }
   ],
   "source": [
    "# Code lab 7  bài 3 ở đây\n",
    "# Nhập tên file CSV\n",
    "filename = input(\"Nhập tên file .csv: \")\n",
    "# Mở file ở chế độ ghi (w = ghi mới)\n",
    "with open(filename, \"w\", encoding=\"utf-8\") as f:\n",
    "    # Ghi dòng tiêu đề (header)\n",
    "    f.write(\"Tiêu đề,Tác giả,Năm sáng tác\\n\")\n",
    "    n = int(input(\"Nhập số lượng bài thơ cần lưu : \"))\n",
    "    for i in range(n):\n",
    "        print(f\"\\n--- Bài thơ thứ {i+1} ---\")\n",
    "        tieu_de = input(\"Tiêu đề: \")\n",
    "        tac_gia = input(\"Tác giả: \")\n",
    "        nam_sang_tac = input(\"Năm sáng tác: \")\n",
    "        \n",
    "\n",
    "        # Ghi một dòng vào file bằng f-string\n",
    "        line = f\"{tieu_de},{tac_gia},{nam_sang_tac}\\n\"\n",
    "        f.write(line)\n",
    "\n",
    "print(f\"\\n Đã lưu thông tin {n} bài thơ vào file '{filename}' thành công!\")"
   ]
  },
  {
   "cell_type": "markdown",
   "id": "d36ea3d3",
   "metadata": {},
   "source": [
    "## Lab 7 - Bài 4"
   ]
  },
  {
   "cell_type": "code",
   "execution_count": 4,
   "id": "4c707ec1",
   "metadata": {},
   "outputs": [],
   "source": [
    "# code lab 7 bài 4 ở đây\n",
    "tieu_de = \"Tự nguyện\"\n",
    "tac_gia = \"Trương Quốc Khánh\"\n",
    "part_1 = \"Nếu là chim, tôi sẽ là loài bồ câu trắng, tôi sẽ là một đóa hướng dương, tôi sẽ là một vầng mây ấm, tôi sẽ chết cho quê hương.\"\n",
    "part_2 = \"Là chim, tôi sẽ cất cao đôi cánh mềm, từ nam ra ngoài bắc báo tin nối liền, là hoa, tôi nở tình yêu ban sớm, cùng muôn trái tim ngất ngây hoà bình.\"\n",
    "part_3 = \"Là mây, theo làn gió tung bay khắp trời, nghìn xưa oai hùng đó tôi xin tiếp lời, là người xin một lần khi nằm xuống, nhìn anh em đứng lên phất cao ngọn cờ.\"\n",
    "with open (\"Resource.xml\" , mode = 'w', encoding= 'utf-8') as file:\n",
    "    file.write(\"<songs>\\n\")\n",
    "    file.write(\"    <song>\\n\")\n",
    "    file.write(\"        <name>{}</name>\\n\".format(tieu_de))\n",
    "    file.write(\"        <author>{}</author>\\n\".format(tac_gia))\n",
    "    file.write(\"        <section>{}</section>\\n\".format(part_1))\n",
    "    file.write(\"        <section>{}</section>\\n\".format(part_2))\n",
    "    file.write(\"        <section>{}</section>\\n\".format(part_3))\n",
    "    file.write(\"    </song>\\n\")\n",
    "    file.write(\"</songs>\")\n",
    "    \n",
    "    \n",
    "    \n",
    "    \n",
    "        \n",
    "    \n"
   ]
  },
  {
   "cell_type": "markdown",
   "id": "e2b41d4a",
   "metadata": {},
   "source": [
    "## Lab 7 - Bài 5: bài tập làm thêm"
   ]
  },
  {
   "cell_type": "code",
   "execution_count": null,
   "id": "0e0172f7",
   "metadata": {},
   "outputs": [],
   "source": [
    "# code lab 7  bài làm thêm ở đây "
   ]
  }
 ],
 "metadata": {
  "kernelspec": {
   "display_name": "Python 3",
   "language": "python",
   "name": "python3"
  },
  "language_info": {
   "codemirror_mode": {
    "name": "ipython",
    "version": 3
   },
   "file_extension": ".py",
   "mimetype": "text/x-python",
   "name": "python",
   "nbconvert_exporter": "python",
   "pygments_lexer": "ipython3",
   "version": "3.13.0"
  }
 },
 "nbformat": 4,
 "nbformat_minor": 5
}
