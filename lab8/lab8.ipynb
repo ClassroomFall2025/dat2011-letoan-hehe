{
 "cells": [
  {
   "cell_type": "markdown",
   "id": "fdeff819",
   "metadata": {},
   "source": [
    "# Sinh Viên thực hiện Lab 8 ở Đây"
   ]
  },
  {
   "cell_type": "markdown",
   "id": "acc5d7dc",
   "metadata": {},
   "source": [
    "## Lab 8 - Bài 1"
   ]
  },
  {
   "cell_type": "code",
   "execution_count": 8,
   "id": "001e0507",
   "metadata": {},
   "outputs": [
    {
     "name": "stdout",
     "output_type": "stream",
     "text": [
      "Ho: NGUYEN\n",
      "Ten:  CONG\n",
      "Ten dem: \n"
     ]
    }
   ],
   "source": [
    "# Code lab 8 bài 1 ở đây\n",
    "ten = input(\"Nhap ho va ten\").split()\n",
    "dodai = len(ten)\n",
    "ho = ten[0].upper()\n",
    "lastname = ten[-1].upper()\n",
    "middle = ten[1:dodai -1]\n",
    "print (\"Ho:\",ho)\n",
    "print(\"Ten: \",lastname)\n",
    "print(\"Ten dem:\", \" \".join(middle))\n"
   ]
  },
  {
   "cell_type": "markdown",
   "id": "c0835310",
   "metadata": {},
   "source": [
    "## Lab 8 - Bài 2"
   ]
  },
  {
   "cell_type": "code",
   "execution_count": null,
   "id": "fa9cb39f",
   "metadata": {},
   "outputs": [
    {
     "name": "stdout",
     "output_type": "stream",
     "text": [
      "Mã tỉnh không tồn tại\n",
      "CCCD hợp lệ\n",
      "\n",
      "Thông tin sinh viên đã nhập thành công\n",
      "Họ tên: Toan\n",
      "Email: 15@gmail.com\n",
      "SĐT: 0931914001\n",
      "CMND: 079201005269\n"
     ]
    }
   ],
   "source": [
    "# Code lab 8  bài 2 ở đây\n",
    "import re\n",
    "from cccd import *\n",
    "# Email: Chuỗi + @ + Chuỗi + . + Chuỗi\n",
    "email_mau = r'^[a-zA-Z0-9._%+-]+@[a-zA-Z0-9.-]+\\.[a-zA-Z]{2,}$'\n",
    "# Số điện thoại: Bắt đầu bằng 0, theo sau là 9 chữ số (tổng 10 số)\n",
    "phone_mau = r'^0\\d{9}$'\n",
    "\n",
    "cmnd_mau = r'^(\\d{12})$'\n",
    "#tạo dictionary để lưu thông tin\n",
    "sinh_vien = {}\n",
    "\n",
    "#Nhập liệu\n",
    "#Nhập họ tên\n",
    "sinh_vien['ho_ten'] = input(\"Nhập họ tên sinh viên: \")\n",
    "#Nhập mail\n",
    "while True:\n",
    "    email_input = input(\"Nhập email: \")\n",
    "    if re.match(email_mau, email_input):\n",
    "        #Hàm re.match là hàm chính của thử thư viện re đã import, check xem cái mail đã input có khớp mẫu mail ở trên không\n",
    "        sinh_vien['email'] = email_input\n",
    "        break  # Dữ liệu hợp lệ, thoát vòng lặp\n",
    "    else:\n",
    "        print(\"Lỗi: Email không đúng định dạng. Vui lòng nhập lại.\")\n",
    "\n",
    "#Nhập Số điện thoại\n",
    "while True:\n",
    "    phone_input = input(\"Nhập số điện thoại: \")\n",
    "    if re.match(phone_mau, phone_input):\n",
    "        sinh_vien['so_dien_thoai'] = phone_input\n",
    "        break\n",
    "    else:\n",
    "        print(\"Lỗi: Số điện thoại không đúng định dạng (10 số).\")\n",
    "\n",
    "# Nhập CMND\n",
    "while True:\n",
    "    cmnd_input = input(\"Nhập CMND: \")\n",
    "    if re.fullmatch(cmnd_mau, cmnd_input):\n",
    "        ma_tinh = cmnd_input[:3]\n",
    "        ma_gioi_tinh = cmnd_input[3]\n",
    "        if ma_tinh in ma_tinh_thanh.values():\n",
    "            if ma_gioi_tinh in ma_gioi_tinh_the_ky:\n",
    "                print (\"CCCD hợp lệ\")      \n",
    "                sinh_vien['cmnd'] = cmnd_input\n",
    "                break\n",
    "            else:\n",
    "                print(\"Mã giới tính không hợp lệ, nhập lại\")\n",
    "        else:\n",
    "            print(\"Mã tỉnh không tồn tại, nhập lại\")\n",
    "    else:\n",
    "        print(\"Lỗi: CMND không đúng định dạng (12 số).\")\n",
    "\n",
    "#In thông tin đã nhập thành công\n",
    "print(\"\\nThông tin sinh viên đã nhập thành công\")\n",
    "print(f\"Họ tên: {sinh_vien['ho_ten']}\")\n",
    "print(f\"Email: {sinh_vien['email']}\")\n",
    "print(f\"SĐT: {sinh_vien['so_dien_thoai']}\")\n",
    "print(f\"CMND: {sinh_vien['cmnd']}\")"
   ]
  },
  {
   "cell_type": "markdown",
   "id": "0f2483fe",
   "metadata": {},
   "source": [
    "## Lab 8 - Bài 3"
   ]
  },
  {
   "cell_type": "code",
   "execution_count": 17,
   "id": "7034990b",
   "metadata": {},
   "outputs": [
    {
     "name": "stdout",
     "output_type": "stream",
     "text": [
      "Dang ghi file:\n",
      "Hoàn tất\n"
     ]
    }
   ],
   "source": [
    "# Code lab 8  bài 3 ở đây\n",
    "import random\n",
    "so = [str(random.randint(0,100)) for _ in range(1000000)]\n",
    "#ghi file\n",
    "print(\"Dang ghi file:\")\n",
    "with open(\"so_ngau_nhien.txt\", mode= \"w\", encoding= \"UTF-8\") as file:\n",
    "    file.write(\" \".join(so))\n",
    "print(\"Hoàn tất\")\n"
   ]
  },
  {
   "cell_type": "markdown",
   "id": "d36ea3d3",
   "metadata": {},
   "source": [
    "## Lab 8 - Bài 4"
   ]
  },
  {
   "cell_type": "code",
   "execution_count": 21,
   "id": "4c707ec1",
   "metadata": {},
   "outputs": [
    {
     "name": "stdout",
     "output_type": "stream",
     "text": [
      "Trung bình: 49.98\n",
      "Trung vị: 50.0\n"
     ]
    }
   ],
   "source": [
    "# code lab 8 bài 4 ở đây\n",
    "import statistics\n",
    "import re\n",
    "with open (\"so_ngau_nhien.txt\", mode= 'r',encoding='utf-8') as file:\n",
    "    noidung = file.read()\n",
    "    so = noidung.split()\n",
    "# Chuyen list số thành số nguyên\n",
    "map_so = map(int,so) # map ở đây hoạt động như 1 iterator , map sẽ trả về địa chỉ bộ nhớ đang được lưu , tiết kiêm RAM\n",
    "lst_so = list(map_so)\n",
    "#Trung bình\n",
    "avg = statistics.mean(lst_so)\n",
    "median = statistics.median(lst_so)# Phải chuyển về list vì median truy cập theo index , map không hỗ trợ\n",
    "print(f\"Trung bình: {avg:.2f}\")\n",
    "print(f\"Trung vị: {median:.1f}\")"
   ]
  },
  {
   "cell_type": "markdown",
   "id": "e2b41d4a",
   "metadata": {},
   "source": [
    "## Lab 8 - Bài 5: bài tập làm thêm"
   ]
  },
  {
   "cell_type": "code",
   "execution_count": null,
   "id": "0e0172f7",
   "metadata": {},
   "outputs": [],
   "source": [
    "# code lab 8  bài làm thêm ở đây "
   ]
  }
 ],
 "metadata": {
  "kernelspec": {
   "display_name": "Python 3",
   "language": "python",
   "name": "python3"
  },
  "language_info": {
   "codemirror_mode": {
    "name": "ipython",
    "version": 3
   },
   "file_extension": ".py",
   "mimetype": "text/x-python",
   "name": "python",
   "nbconvert_exporter": "python",
   "pygments_lexer": "ipython3",
   "version": "3.13.0"
  }
 },
 "nbformat": 4,
 "nbformat_minor": 5
}
